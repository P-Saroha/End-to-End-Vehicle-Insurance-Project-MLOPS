{
 "cells": [
  {
   "cell_type": "code",
   "execution_count": 1,
   "id": "85e1e38b",
   "metadata": {},
   "outputs": [
    {
     "data": {
      "text/html": [
       "<div>\n",
       "<style scoped>\n",
       "    .dataframe tbody tr th:only-of-type {\n",
       "        vertical-align: middle;\n",
       "    }\n",
       "\n",
       "    .dataframe tbody tr th {\n",
       "        vertical-align: top;\n",
       "    }\n",
       "\n",
       "    .dataframe thead th {\n",
       "        text-align: right;\n",
       "    }\n",
       "</style>\n",
       "<table border=\"1\" class=\"dataframe\">\n",
       "  <thead>\n",
       "    <tr style=\"text-align: right;\">\n",
       "      <th></th>\n",
       "      <th>id</th>\n",
       "      <th>Gender</th>\n",
       "      <th>Age</th>\n",
       "      <th>Driving_License</th>\n",
       "      <th>Region_Code</th>\n",
       "      <th>Previously_Insured</th>\n",
       "      <th>Vehicle_Age</th>\n",
       "      <th>Vehicle_Damage</th>\n",
       "      <th>Annual_Premium</th>\n",
       "      <th>Policy_Sales_Channel</th>\n",
       "      <th>Vintage</th>\n",
       "      <th>Response</th>\n",
       "    </tr>\n",
       "  </thead>\n",
       "  <tbody>\n",
       "    <tr>\n",
       "      <th>0</th>\n",
       "      <td>1</td>\n",
       "      <td>Male</td>\n",
       "      <td>44</td>\n",
       "      <td>1</td>\n",
       "      <td>28.0</td>\n",
       "      <td>0</td>\n",
       "      <td>&gt; 2 Years</td>\n",
       "      <td>Yes</td>\n",
       "      <td>40454.0</td>\n",
       "      <td>26.0</td>\n",
       "      <td>217</td>\n",
       "      <td>1</td>\n",
       "    </tr>\n",
       "    <tr>\n",
       "      <th>1</th>\n",
       "      <td>2</td>\n",
       "      <td>Male</td>\n",
       "      <td>76</td>\n",
       "      <td>1</td>\n",
       "      <td>3.0</td>\n",
       "      <td>0</td>\n",
       "      <td>1-2 Year</td>\n",
       "      <td>No</td>\n",
       "      <td>33536.0</td>\n",
       "      <td>26.0</td>\n",
       "      <td>183</td>\n",
       "      <td>0</td>\n",
       "    </tr>\n",
       "    <tr>\n",
       "      <th>2</th>\n",
       "      <td>3</td>\n",
       "      <td>Male</td>\n",
       "      <td>47</td>\n",
       "      <td>1</td>\n",
       "      <td>28.0</td>\n",
       "      <td>0</td>\n",
       "      <td>&gt; 2 Years</td>\n",
       "      <td>Yes</td>\n",
       "      <td>38294.0</td>\n",
       "      <td>26.0</td>\n",
       "      <td>27</td>\n",
       "      <td>1</td>\n",
       "    </tr>\n",
       "    <tr>\n",
       "      <th>3</th>\n",
       "      <td>4</td>\n",
       "      <td>Male</td>\n",
       "      <td>21</td>\n",
       "      <td>1</td>\n",
       "      <td>11.0</td>\n",
       "      <td>1</td>\n",
       "      <td>&lt; 1 Year</td>\n",
       "      <td>No</td>\n",
       "      <td>28619.0</td>\n",
       "      <td>152.0</td>\n",
       "      <td>203</td>\n",
       "      <td>0</td>\n",
       "    </tr>\n",
       "    <tr>\n",
       "      <th>4</th>\n",
       "      <td>5</td>\n",
       "      <td>Female</td>\n",
       "      <td>29</td>\n",
       "      <td>1</td>\n",
       "      <td>41.0</td>\n",
       "      <td>1</td>\n",
       "      <td>&lt; 1 Year</td>\n",
       "      <td>No</td>\n",
       "      <td>27496.0</td>\n",
       "      <td>152.0</td>\n",
       "      <td>39</td>\n",
       "      <td>0</td>\n",
       "    </tr>\n",
       "  </tbody>\n",
       "</table>\n",
       "</div>"
      ],
      "text/plain": [
       "   id  Gender  Age  Driving_License  Region_Code  Previously_Insured  \\\n",
       "0   1    Male   44                1         28.0                   0   \n",
       "1   2    Male   76                1          3.0                   0   \n",
       "2   3    Male   47                1         28.0                   0   \n",
       "3   4    Male   21                1         11.0                   1   \n",
       "4   5  Female   29                1         41.0                   1   \n",
       "\n",
       "  Vehicle_Age Vehicle_Damage  Annual_Premium  Policy_Sales_Channel  Vintage  \\\n",
       "0   > 2 Years            Yes         40454.0                  26.0      217   \n",
       "1    1-2 Year             No         33536.0                  26.0      183   \n",
       "2   > 2 Years            Yes         38294.0                  26.0       27   \n",
       "3    < 1 Year             No         28619.0                 152.0      203   \n",
       "4    < 1 Year             No         27496.0                 152.0       39   \n",
       "\n",
       "   Response  \n",
       "0         1  \n",
       "1         0  \n",
       "2         1  \n",
       "3         0  \n",
       "4         0  "
      ]
     },
     "execution_count": 1,
     "metadata": {},
     "output_type": "execute_result"
    }
   ],
   "source": [
    "import os\n",
    "from dotenv import load_dotenv\n",
    "load_dotenv()  # Load .env file\n",
    "\n",
    "import pandas as pd\n",
    "import pymongo\n",
    "\n",
    "df = pd.read_csv('data.csv')\n",
    "df.head()"
   ]
  },
  {
   "cell_type": "code",
   "execution_count": 2,
   "id": "17a064c2",
   "metadata": {},
   "outputs": [],
   "source": [
    "# df should be converted into dict before we push it to mongodb\n",
    "\n",
    "data = df.to_dict(orient='records')\n",
    "# data"
   ]
  },
  {
   "cell_type": "code",
   "execution_count": 3,
   "id": "bac517af",
   "metadata": {},
   "outputs": [],
   "source": [
    "# Remove _id from data if it exists (to avoid duplicate key errors)\n",
    "data = [{k: v for k, v in d.items() if k != '_id'} for d in data]"
   ]
  },
  {
   "cell_type": "code",
   "execution_count": 4,
   "id": "4dc8dcd8",
   "metadata": {},
   "outputs": [
    {
     "name": "stdout",
     "output_type": "stream",
     "text": [
      "Number of records: 381109\n",
      "Sample record: {'id': 1, 'Gender': 'Male', 'Age': 44, 'Driving_License': 1, 'Region_Code': 28.0, 'Previously_Insured': 0, 'Vehicle_Age': '> 2 Years', 'Vehicle_Damage': 'Yes', 'Annual_Premium': 40454.0, 'Policy_Sales_Channel': 26.0, 'Vintage': 217, 'Response': 1}\n",
      "DataFrame info:\n",
      "<class 'pandas.core.frame.DataFrame'>\n",
      "RangeIndex: 381109 entries, 0 to 381108\n",
      "Data columns (total 12 columns):\n",
      " #   Column                Non-Null Count   Dtype  \n",
      "---  ------                --------------   -----  \n",
      " 0   id                    381109 non-null  int64  \n",
      " 1   Gender                381109 non-null  object \n",
      " 2   Age                   381109 non-null  int64  \n",
      " 3   Driving_License       381109 non-null  int64  \n",
      " 4   Region_Code           381109 non-null  float64\n",
      " 5   Previously_Insured    381109 non-null  int64  \n",
      " 6   Vehicle_Age           381109 non-null  object \n",
      " 7   Vehicle_Damage        381109 non-null  object \n",
      " 8   Annual_Premium        381109 non-null  float64\n",
      " 9   Policy_Sales_Channel  381109 non-null  float64\n",
      " 10  Vintage               381109 non-null  int64  \n",
      " 11  Response              381109 non-null  int64  \n",
      "dtypes: float64(3), int64(6), object(3)\n",
      "memory usage: 34.9+ MB\n",
      "Null values per column:\n",
      "id                      0\n",
      "Gender                  0\n",
      "Age                     0\n",
      "Driving_License         0\n",
      "Region_Code             0\n",
      "Previously_Insured      0\n",
      "Vehicle_Age             0\n",
      "Vehicle_Damage          0\n",
      "Annual_Premium          0\n",
      "Policy_Sales_Channel    0\n",
      "Vintage                 0\n",
      "Response                0\n",
      "dtype: int64\n"
     ]
    }
   ],
   "source": [
    "# Inspect the data before uploading\n",
    "print(f\"Number of records: {len(data)}\")\n",
    "print(f\"Sample record: {data[0] if data else 'No data'}\")\n",
    "print(f\"DataFrame info:\")\n",
    "df.info()\n",
    "print(f\"Null values per column:\\n{df.isnull().sum()}\")"
   ]
  },
  {
   "cell_type": "code",
   "execution_count": 5,
   "id": "cfe3e65e",
   "metadata": {},
   "outputs": [],
   "source": [
    "DB_NAME = \"vehicle-insurance\"\n",
    "COLLECTION_NAME = \"insurance\"\n",
    "CONNECTION_URL = os.getenv('MONGODB_URL')  # Load from .env\n",
    "\n",
    "\n",
    "\n",
    "# above, either remove your credentials or delete the mongoDB resource bofore pushing it to github."
   ]
  },
  {
   "cell_type": "code",
   "execution_count": 6,
   "id": "c3fda13f",
   "metadata": {},
   "outputs": [],
   "source": [
    "client = pymongo.MongoClient(CONNECTION_URL)\n",
    "data_base = client[DB_NAME]\n",
    "collection = data_base[COLLECTION_NAME]"
   ]
  },
  {
   "cell_type": "code",
   "execution_count": 7,
   "id": "0158d22a",
   "metadata": {},
   "outputs": [
    {
     "name": "stdout",
     "output_type": "stream",
     "text": [
      "Connected to MongoDB successfully!\n"
     ]
    }
   ],
   "source": [
    "# Test the connection before uploading\n",
    "try:\n",
    "    client.admin.command('ping')\n",
    "    print(\"Connected to MongoDB successfully!\")\n",
    "except Exception as e:\n",
    "    print(f\"Connection failed: {e}\")\n",
    "    print(\"Please check your IP whitelist in MongoDB Atlas or your internet connection.\")"
   ]
  },
  {
   "cell_type": "code",
   "execution_count": 8,
   "id": "ea9b1a6f",
   "metadata": {},
   "outputs": [
    {
     "name": "stdout",
     "output_type": "stream",
     "text": [
      "Inserted batch 1: 10000 documents\n",
      "Inserted batch 2: 10000 documents\n",
      "Inserted batch 3: 10000 documents\n",
      "Inserted batch 4: 10000 documents\n",
      "Inserted batch 5: 10000 documents\n",
      "Inserted batch 6: 10000 documents\n",
      "Inserted batch 7: 10000 documents\n",
      "Inserted batch 8: 10000 documents\n",
      "Inserted batch 9: 10000 documents\n",
      "Inserted batch 10: 10000 documents\n",
      "Inserted batch 11: 10000 documents\n",
      "Inserted batch 12: 10000 documents\n",
      "Inserted batch 13: 10000 documents\n",
      "Inserted batch 14: 10000 documents\n",
      "Inserted batch 15: 10000 documents\n",
      "Inserted batch 16: 10000 documents\n",
      "Inserted batch 17: 10000 documents\n",
      "Inserted batch 18: 10000 documents\n",
      "Inserted batch 19: 10000 documents\n",
      "Inserted batch 20: 10000 documents\n",
      "Inserted batch 21: 10000 documents\n",
      "Inserted batch 22: 10000 documents\n",
      "Inserted batch 23: 10000 documents\n",
      "Inserted batch 24: 10000 documents\n",
      "Inserted batch 25: 10000 documents\n",
      "Inserted batch 26: 10000 documents\n",
      "Inserted batch 27: 10000 documents\n",
      "Inserted batch 28: 10000 documents\n",
      "Inserted batch 29: 10000 documents\n",
      "Inserted batch 30: 10000 documents\n",
      "Inserted batch 31: 10000 documents\n",
      "Inserted batch 32: 10000 documents\n",
      "Inserted batch 33: 10000 documents\n",
      "Inserted batch 34: 10000 documents\n",
      "Inserted batch 35: 10000 documents\n",
      "Inserted batch 36: 10000 documents\n",
      "Inserted batch 37: 10000 documents\n",
      "Inserted batch 38: 10000 documents\n",
      "Inserted batch 39: 1109 documents\n",
      "Total documents inserted: 381109\n"
     ]
    }
   ],
   "source": [
    "# Uploading data to MongoDB in batches to avoid timeout\n",
    "batch_size = 10000\n",
    "total_inserted = 0\n",
    "for i in range(0, len(data), batch_size):\n",
    "    batch = data[i:i + batch_size]\n",
    "    try:\n",
    "        rec = collection.insert_many(batch)\n",
    "        total_inserted += len(rec.inserted_ids)\n",
    "        print(f\"Inserted batch {i//batch_size + 1}: {len(rec.inserted_ids)} documents\")\n",
    "    except Exception as e:\n",
    "        print(f\"Error inserting batch {i//batch_size + 1}: {e}\")\n",
    "        break\n",
    "\n",
    "print(f\"Total documents inserted: {total_inserted}\")"
   ]
  },
  {
   "cell_type": "code",
   "execution_count": 9,
   "id": "3356ca0b",
   "metadata": {},
   "outputs": [
    {
     "name": "stdout",
     "output_type": "stream",
     "text": [
      "Total documents in collection: 1062218\n",
      "Sample document from MongoDB: {'_id': ObjectId('68caf8f815e70966810a954d'), 'id': 6, 'Gender': 'Female', 'Age': 24, 'Driving_License': 1, 'Region_Code': 33.0, 'Previously_Insured': 0, 'Vehicle_Age': '< 1 Year', 'Vehicle_Damage': 'Yes', 'Annual_Premium': 2630.0, 'Policy_Sales_Channel': 160.0, 'Vintage': 176, 'Response': 0}\n"
     ]
    }
   ],
   "source": [
    "# Verify the data was inserted\n",
    "document_count = collection.count_documents({})\n",
    "print(f\"Total documents in collection: {document_count}\")\n",
    "\n",
    "# Sample document from MongoDB\n",
    "sample_doc = collection.find_one()\n",
    "print(f\"Sample document from MongoDB: {sample_doc}\")"
   ]
  }
 ],
 "metadata": {
  "kernelspec": {
   "display_name": "myenv",
   "language": "python",
   "name": "python3"
  },
  "language_info": {
   "codemirror_mode": {
    "name": "ipython",
    "version": 3
   },
   "file_extension": ".py",
   "mimetype": "text/x-python",
   "name": "python",
   "nbconvert_exporter": "python",
   "pygments_lexer": "ipython3",
   "version": "3.11.9"
  }
 },
 "nbformat": 4,
 "nbformat_minor": 5
}
